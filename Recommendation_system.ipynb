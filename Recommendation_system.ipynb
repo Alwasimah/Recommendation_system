{
  "nbformat": 4,
  "nbformat_minor": 0,
  "metadata": {
    "colab": {
      "name": "Recommendation_system.ipynb",
      "provenance": [],
      "collapsed_sections": []
    },
    "kernelspec": {
      "name": "python3",
      "display_name": "Python 3"
    },
    "language_info": {
      "name": "python"
    }
  },
  "cells": [
    {
      "cell_type": "code",
      "source": [
        "#Connect Google Colab with Google Drive\n",
        "from google.colab import drive\n",
        "drive.mount('/content/drive')"
      ],
      "metadata": {
        "id": "ibLkJKRNXzhc",
        "colab": {
          "base_uri": "https://localhost:8080/"
        },
        "outputId": "1ec3ea17-6b72-4853-90f1-0b322063ee7f"
      },
      "execution_count": null,
      "outputs": [
        {
          "output_type": "stream",
          "name": "stdout",
          "text": [
            "Mounted at /content/drive\n"
          ]
        }
      ]
    },
    {
      "cell_type": "code",
      "source": [
        "#importing necessery libraries\n",
        "import pandas as pd\n",
        "import numpy as np\n",
        "import matplotlib\n",
        "import matplotlib.pyplot as plt\n",
        "from scipy.sparse import csr_matrix"
      ],
      "metadata": {
        "id": "XTbQN2sabxBr"
      },
      "execution_count": null,
      "outputs": []
    },
    {
      "cell_type": "code",
      "source": [
        "#Load The Data\n",
        "data = pd.read_csv('/content/drive/MyDrive/Recommendation system/u.data', delimiter=\"\\t\")\n",
        "data.columns = ['user_id','movie_id','rating','unix_timestamp']"
      ],
      "metadata": {
        "id": "yo_zNH3mbxEj"
      },
      "execution_count": null,
      "outputs": []
    },
    {
      "cell_type": "code",
      "source": [
        "print(data.shape)\n",
        "data.head()"
      ],
      "metadata": {
        "colab": {
          "base_uri": "https://localhost:8080/",
          "height": 223
        },
        "id": "MsBySFn78x5c",
        "outputId": "491c43a7-13f1-4f01-bca3-792e200ae39e"
      },
      "execution_count": null,
      "outputs": [
        {
          "output_type": "stream",
          "name": "stdout",
          "text": [
            "(99999, 4)\n"
          ]
        },
        {
          "output_type": "execute_result",
          "data": {
            "text/plain": [
              "   user_id  movie_id  rating  unix_timestamp\n",
              "0      186       302       3       891717742\n",
              "1       22       377       1       878887116\n",
              "2      244        51       2       880606923\n",
              "3      166       346       1       886397596\n",
              "4      298       474       4       884182806"
            ],
            "text/html": [
              "\n",
              "  <div id=\"df-6b3f3cfb-e8a2-49a0-bdba-74bc2c9cb76d\">\n",
              "    <div class=\"colab-df-container\">\n",
              "      <div>\n",
              "<style scoped>\n",
              "    .dataframe tbody tr th:only-of-type {\n",
              "        vertical-align: middle;\n",
              "    }\n",
              "\n",
              "    .dataframe tbody tr th {\n",
              "        vertical-align: top;\n",
              "    }\n",
              "\n",
              "    .dataframe thead th {\n",
              "        text-align: right;\n",
              "    }\n",
              "</style>\n",
              "<table border=\"1\" class=\"dataframe\">\n",
              "  <thead>\n",
              "    <tr style=\"text-align: right;\">\n",
              "      <th></th>\n",
              "      <th>user_id</th>\n",
              "      <th>movie_id</th>\n",
              "      <th>rating</th>\n",
              "      <th>unix_timestamp</th>\n",
              "    </tr>\n",
              "  </thead>\n",
              "  <tbody>\n",
              "    <tr>\n",
              "      <th>0</th>\n",
              "      <td>186</td>\n",
              "      <td>302</td>\n",
              "      <td>3</td>\n",
              "      <td>891717742</td>\n",
              "    </tr>\n",
              "    <tr>\n",
              "      <th>1</th>\n",
              "      <td>22</td>\n",
              "      <td>377</td>\n",
              "      <td>1</td>\n",
              "      <td>878887116</td>\n",
              "    </tr>\n",
              "    <tr>\n",
              "      <th>2</th>\n",
              "      <td>244</td>\n",
              "      <td>51</td>\n",
              "      <td>2</td>\n",
              "      <td>880606923</td>\n",
              "    </tr>\n",
              "    <tr>\n",
              "      <th>3</th>\n",
              "      <td>166</td>\n",
              "      <td>346</td>\n",
              "      <td>1</td>\n",
              "      <td>886397596</td>\n",
              "    </tr>\n",
              "    <tr>\n",
              "      <th>4</th>\n",
              "      <td>298</td>\n",
              "      <td>474</td>\n",
              "      <td>4</td>\n",
              "      <td>884182806</td>\n",
              "    </tr>\n",
              "  </tbody>\n",
              "</table>\n",
              "</div>\n",
              "      <button class=\"colab-df-convert\" onclick=\"convertToInteractive('df-6b3f3cfb-e8a2-49a0-bdba-74bc2c9cb76d')\"\n",
              "              title=\"Convert this dataframe to an interactive table.\"\n",
              "              style=\"display:none;\">\n",
              "        \n",
              "  <svg xmlns=\"http://www.w3.org/2000/svg\" height=\"24px\"viewBox=\"0 0 24 24\"\n",
              "       width=\"24px\">\n",
              "    <path d=\"M0 0h24v24H0V0z\" fill=\"none\"/>\n",
              "    <path d=\"M18.56 5.44l.94 2.06.94-2.06 2.06-.94-2.06-.94-.94-2.06-.94 2.06-2.06.94zm-11 1L8.5 8.5l.94-2.06 2.06-.94-2.06-.94L8.5 2.5l-.94 2.06-2.06.94zm10 10l.94 2.06.94-2.06 2.06-.94-2.06-.94-.94-2.06-.94 2.06-2.06.94z\"/><path d=\"M17.41 7.96l-1.37-1.37c-.4-.4-.92-.59-1.43-.59-.52 0-1.04.2-1.43.59L10.3 9.45l-7.72 7.72c-.78.78-.78 2.05 0 2.83L4 21.41c.39.39.9.59 1.41.59.51 0 1.02-.2 1.41-.59l7.78-7.78 2.81-2.81c.8-.78.8-2.07 0-2.86zM5.41 20L4 18.59l7.72-7.72 1.47 1.35L5.41 20z\"/>\n",
              "  </svg>\n",
              "      </button>\n",
              "      \n",
              "  <style>\n",
              "    .colab-df-container {\n",
              "      display:flex;\n",
              "      flex-wrap:wrap;\n",
              "      gap: 12px;\n",
              "    }\n",
              "\n",
              "    .colab-df-convert {\n",
              "      background-color: #E8F0FE;\n",
              "      border: none;\n",
              "      border-radius: 50%;\n",
              "      cursor: pointer;\n",
              "      display: none;\n",
              "      fill: #1967D2;\n",
              "      height: 32px;\n",
              "      padding: 0 0 0 0;\n",
              "      width: 32px;\n",
              "    }\n",
              "\n",
              "    .colab-df-convert:hover {\n",
              "      background-color: #E2EBFA;\n",
              "      box-shadow: 0px 1px 2px rgba(60, 64, 67, 0.3), 0px 1px 3px 1px rgba(60, 64, 67, 0.15);\n",
              "      fill: #174EA6;\n",
              "    }\n",
              "\n",
              "    [theme=dark] .colab-df-convert {\n",
              "      background-color: #3B4455;\n",
              "      fill: #D2E3FC;\n",
              "    }\n",
              "\n",
              "    [theme=dark] .colab-df-convert:hover {\n",
              "      background-color: #434B5C;\n",
              "      box-shadow: 0px 1px 3px 1px rgba(0, 0, 0, 0.15);\n",
              "      filter: drop-shadow(0px 1px 2px rgba(0, 0, 0, 0.3));\n",
              "      fill: #FFFFFF;\n",
              "    }\n",
              "  </style>\n",
              "\n",
              "      <script>\n",
              "        const buttonEl =\n",
              "          document.querySelector('#df-6b3f3cfb-e8a2-49a0-bdba-74bc2c9cb76d button.colab-df-convert');\n",
              "        buttonEl.style.display =\n",
              "          google.colab.kernel.accessAllowed ? 'block' : 'none';\n",
              "\n",
              "        async function convertToInteractive(key) {\n",
              "          const element = document.querySelector('#df-6b3f3cfb-e8a2-49a0-bdba-74bc2c9cb76d');\n",
              "          const dataTable =\n",
              "            await google.colab.kernel.invokeFunction('convertToInteractive',\n",
              "                                                     [key], {});\n",
              "          if (!dataTable) return;\n",
              "\n",
              "          const docLinkHtml = 'Like what you see? Visit the ' +\n",
              "            '<a target=\"_blank\" href=https://colab.research.google.com/notebooks/data_table.ipynb>data table notebook</a>'\n",
              "            + ' to learn more about interactive tables.';\n",
              "          element.innerHTML = '';\n",
              "          dataTable['output_type'] = 'display_data';\n",
              "          await google.colab.output.renderOutput(dataTable, element);\n",
              "          const docLink = document.createElement('div');\n",
              "          docLink.innerHTML = docLinkHtml;\n",
              "          element.appendChild(docLink);\n",
              "        }\n",
              "      </script>\n",
              "    </div>\n",
              "  </div>\n",
              "  "
            ]
          },
          "metadata": {},
          "execution_count": 4
        }
      ]
    },
    {
      "cell_type": "code",
      "source": [
        "#basic information about the dataset\n",
        "data.info()"
      ],
      "metadata": {
        "id": "SEE4lIYylQQw",
        "colab": {
          "base_uri": "https://localhost:8080/"
        },
        "outputId": "93ed05f6-6241-463d-d567-21db09db0b24"
      },
      "execution_count": null,
      "outputs": [
        {
          "output_type": "stream",
          "name": "stdout",
          "text": [
            "<class 'pandas.core.frame.DataFrame'>\n",
            "RangeIndex: 99999 entries, 0 to 99998\n",
            "Data columns (total 4 columns):\n",
            " #   Column          Non-Null Count  Dtype\n",
            "---  ------          --------------  -----\n",
            " 0   user_id         99999 non-null  int64\n",
            " 1   movie_id        99999 non-null  int64\n",
            " 2   rating          99999 non-null  int64\n",
            " 3   unix_timestamp  99999 non-null  int64\n",
            "dtypes: int64(4)\n",
            "memory usage: 3.1 MB\n"
          ]
        }
      ]
    },
    {
      "cell_type": "markdown",
      "source": [
        "# print out the total number of unique users and movies (print the total number of movies and the total number of users – not users and movies themselves)\n"
      ],
      "metadata": {
        "id": "w6Ejn_S-BEeA"
      }
    },
    {
      "cell_type": "code",
      "source": [
        "user_id=data['user_id'].nunique()\n",
        "print(f'Number of unique Users : {user_id}')\n",
        "\n",
        "movie_id=data['movie_id'].nunique()\n",
        "print(f'Number of unique Movies : {movie_id}')\n",
        "\n",
        "print(len(data))"
      ],
      "metadata": {
        "colab": {
          "base_uri": "https://localhost:8080/"
        },
        "id": "iKHmWBrvrJY9",
        "outputId": "3c1bdea5-1f02-439e-85d9-fd72992f3517"
      },
      "execution_count": null,
      "outputs": [
        {
          "output_type": "stream",
          "name": "stdout",
          "text": [
            "Number of unique Users : 943\n",
            "Number of unique Movies : 1682\n",
            "99999\n"
          ]
        }
      ]
    },
    {
      "cell_type": "markdown",
      "source": [
        "# create our utility matrix (user-item matrix) and print out some of its entries. The matrix will be used to compute similarity between users and items."
      ],
      "metadata": {
        "id": "ZKZwk9_vDv0S"
      }
    },
    {
      "cell_type": "code",
      "source": [
        "users =data.user_id.unique().shape[0]\n",
        "items =data.movie_id.unique().shape[0]\n",
        "items =data['movie_id'].max()\n",
        "Matrix=np.zeros((users,items))\n",
        "for line in data.itertuples():\n",
        "    Matrix[line[1]-1,line[2]-1] = line[3]\n",
        "print(Matrix);"
      ],
      "metadata": {
        "id": "pX8DeVa2Du-w",
        "colab": {
          "base_uri": "https://localhost:8080/"
        },
        "outputId": "c0633445-c227-4884-9526-0ee3cedd108a"
      },
      "execution_count": null,
      "outputs": [
        {
          "output_type": "stream",
          "name": "stdout",
          "text": [
            "[[5. 3. 4. ... 0. 0. 0.]\n",
            " [4. 0. 0. ... 0. 0. 0.]\n",
            " [0. 0. 0. ... 0. 0. 0.]\n",
            " ...\n",
            " [5. 0. 0. ... 0. 0. 0.]\n",
            " [0. 0. 0. ... 0. 0. 0.]\n",
            " [0. 5. 0. ... 0. 0. 0.]]\n"
          ]
        }
      ]
    },
    {
      "cell_type": "markdown",
      "source": [
        "# since our utility matrix is extremely sparse (in particular the sparsity is \n",
        "# approximately 93.7%), we need to save the memory.\n",
        "# Accordingly, we have been asked to convert this giant rating matrix into a dense matrix "
      ],
      "metadata": {
        "id": "D5QaNIOCyA0i"
      }
    },
    {
      "cell_type": "code",
      "source": [
        "csr_movie_matrix=csr_matrix(Matrix)  \n",
        "print(csr_movie_matrix)\n",
        "#print(csr_movie_matrix[0,:3])"
      ],
      "metadata": {
        "colab": {
          "base_uri": "https://localhost:8080/"
        },
        "id": "sxi0Z9wSxIWd",
        "outputId": "f657d59f-a112-40ce-c510-b195a48a3e35"
      },
      "execution_count": null,
      "outputs": [
        {
          "output_type": "stream",
          "name": "stdout",
          "text": [
            "  (0, 0)\t5.0\n",
            "  (0, 1)\t3.0\n",
            "  (0, 2)\t4.0\n",
            "  (0, 3)\t3.0\n",
            "  (0, 4)\t3.0\n",
            "  (0, 5)\t5.0\n",
            "  (0, 6)\t4.0\n",
            "  (0, 7)\t1.0\n",
            "  (0, 8)\t5.0\n",
            "  (0, 9)\t3.0\n",
            "  (0, 10)\t2.0\n",
            "  (0, 11)\t5.0\n",
            "  (0, 12)\t5.0\n",
            "  (0, 13)\t5.0\n",
            "  (0, 14)\t5.0\n",
            "  (0, 15)\t5.0\n",
            "  (0, 16)\t3.0\n",
            "  (0, 17)\t4.0\n",
            "  (0, 18)\t5.0\n",
            "  (0, 19)\t4.0\n",
            "  (0, 20)\t1.0\n",
            "  (0, 21)\t4.0\n",
            "  (0, 22)\t4.0\n",
            "  (0, 23)\t3.0\n",
            "  (0, 24)\t4.0\n",
            "  :\t:\n",
            "  (942, 738)\t4.0\n",
            "  (942, 755)\t2.0\n",
            "  (942, 762)\t4.0\n",
            "  (942, 764)\t3.0\n",
            "  (942, 784)\t2.0\n",
            "  (942, 793)\t3.0\n",
            "  (942, 795)\t3.0\n",
            "  (942, 807)\t4.0\n",
            "  (942, 815)\t4.0\n",
            "  (942, 823)\t4.0\n",
            "  (942, 824)\t3.0\n",
            "  (942, 830)\t2.0\n",
            "  (942, 839)\t4.0\n",
            "  (942, 927)\t5.0\n",
            "  (942, 940)\t1.0\n",
            "  (942, 942)\t5.0\n",
            "  (942, 1010)\t2.0\n",
            "  (942, 1027)\t2.0\n",
            "  (942, 1043)\t3.0\n",
            "  (942, 1046)\t2.0\n",
            "  (942, 1066)\t2.0\n",
            "  (942, 1073)\t4.0\n",
            "  (942, 1187)\t3.0\n",
            "  (942, 1227)\t3.0\n",
            "  (942, 1329)\t3.0\n"
          ]
        }
      ]
    },
    {
      "cell_type": "markdown",
      "source": [
        "# compute similarity between movies using cosine similarity."
      ],
      "metadata": {
        "id": "F2GoQmyBZCET"
      }
    },
    {
      "cell_type": "code",
      "source": [
        "#Create Classifier\n",
        "from sklearn.neighbors import NearestNeighbors\n",
        "model_knn = NearestNeighbors(metric = 'cosine', algorithm = 'brute',n_neighbors=3, n_jobs=-1)\n",
        "model_knn.fit(csr_movie_matrix)\n",
        "# n_neighbors: number of neighbors. Default is 5\n",
        "# metric=\"cosine\""
      ],
      "metadata": {
        "id": "oHRFzVAWUq0e",
        "colab": {
          "base_uri": "https://localhost:8080/"
        },
        "outputId": "d05daa4e-d37c-49af-af3d-be0249c3c9f9"
      },
      "execution_count": null,
      "outputs": [
        {
          "output_type": "execute_result",
          "data": {
            "text/plain": [
              "NearestNeighbors(algorithm='brute', metric='cosine', n_jobs=-1, n_neighbors=3)"
            ]
          },
          "metadata": {},
          "execution_count": 15
        }
      ]
    },
    {
      "cell_type": "markdown",
      "source": [
        "# Now assume that we would like to generate recommendations for the user_id: 1 based on 20 movies being liked by him. Accordingly, you have been asked to: print out the 20 movies being liked by the specified user\n"
      ],
      "metadata": {
        "id": "MQVirdMUYY37"
      }
    },
    {
      "cell_type": "code",
      "source": [
        "data_sort_des = data.sort_values(['user_id', 'unix_timestamp'], ascending=[True, False])\n",
        "user_id_filter1 = data_sort_des[data_sort_des['user_id'] == 1].movie_id\n",
        "user_id_filter1 = user_id_filter1.tolist()\n",
        "user_id_filter1 = user_id_filter1[:20]\n",
        "print(\"Items liked by user1: \",user_id_filter1)"
      ],
      "metadata": {
        "id": "Fy9oFKx_nf6E",
        "colab": {
          "base_uri": "https://localhost:8080/"
        },
        "outputId": "3093a5f9-1197-4012-d3ad-71c675737d6f"
      },
      "execution_count": null,
      "outputs": [
        {
          "output_type": "stream",
          "name": "stdout",
          "text": [
            "Items liked by user1:  [74, 102, 256, 5, 171, 111, 242, 189, 32, 209, 270, 18, 6, 244, 221, 129, 20, 271, 272, 255]\n"
          ]
        }
      ]
    },
    {
      "cell_type": "markdown",
      "source": [
        "# for each movie being liked by user1 (user_id = 1), recommend 2 similar movies and…That is it!"
      ],
      "metadata": {
        "id": "QK4YaCsuYp9D"
      }
    },
    {
      "cell_type": "code",
      "source": [
        "distances1=[]\n",
        "indices1=[]\n",
        "for i in user_id_filter1:\n",
        "  distances , indices = model_knn.kneighbors(csr_movie_matrix[i],n_neighbors=3)\n",
        "  indices = indices.flatten()\n",
        "  indices= indices[1:]\n",
        "  indices1.extend(indices)\n",
        "print(\"Items to be recommended for user1: \",indices1)"
      ],
      "metadata": {
        "id": "c2S1maW1Y13b",
        "colab": {
          "base_uri": "https://localhost:8080/"
        },
        "outputId": "636630af-2e6a-4014-dba6-e5dd55c5efbd"
      },
      "execution_count": null,
      "outputs": [
        {
          "output_type": "stream",
          "name": "stdout",
          "text": [
            "Items to be recommended for user1:  [517, 356, 230, 758, 883, 893, 473, 17, 436, 311, 615, 855, 105, 614, 103, 163, 501, 510, 642, 406, 473, 536, 578, 475, 649, 312, 688, 778, 681, 108, 275, 681, 365, 813, 685, 297, 719, 865, 373, 331]\n"
          ]
        }
      ]
    }
  ]
}